{
 "metadata": {
  "language_info": {
   "codemirror_mode": {
    "name": "ipython",
    "version": 3
   },
   "file_extension": ".py",
   "mimetype": "text/x-python",
   "name": "python",
   "nbconvert_exporter": "python",
   "pygments_lexer": "ipython3",
   "version": "3.7.4"
  },
  "orig_nbformat": 2,
  "kernelspec": {
   "name": "python374jvsc74a57bd0b3ba2566441a7c06988d0923437866b63cedc61552a5af99d1f4fb67d367b25f",
   "display_name": "Python 3.7.4 64-bit ('base': conda)"
  }
 },
 "nbformat": 4,
 "nbformat_minor": 2,
 "cells": [
  {
   "cell_type": "code",
   "execution_count": null,
   "metadata": {},
   "outputs": [],
   "source": [
    "# Ignore warnings\n",
    "import warnings\n",
    "warnings.filterwarnings('ignore')"
   ]
  },
  {
   "cell_type": "code",
   "execution_count": null,
   "metadata": {},
   "outputs": [],
   "source": [
    "# Import libraries\n",
    "import time\n",
    "import pandas as pd\n",
    "import visuals as vs\n",
    "from sklearn.neighbors import KNeighborsClassifier"
   ]
  },
  {
   "cell_type": "code",
   "execution_count": null,
   "metadata": {},
   "outputs": [],
   "source": [
    "# Pretty display for notebooks\n",
    "%matplotlib inline"
   ]
  },
  {
   "cell_type": "code",
   "execution_count": null,
   "metadata": {},
   "outputs": [],
   "source": [
    "# Load the stock dataset\n",
    "data = pd.read_csv(\"stockDataset_v2.csv\")"
   ]
  },
  {
   "cell_type": "code",
   "execution_count": null,
   "metadata": {},
   "outputs": [],
   "source": [
    "# Display the sample data - records\n",
    "display(data.tail(n=5))"
   ]
  },
  {
   "cell_type": "code",
   "execution_count": null,
   "metadata": {},
   "outputs": [],
   "source": [
    "# Display data features\n",
    "data.info()"
   ]
  },
  {
   "cell_type": "code",
   "execution_count": null,
   "metadata": {},
   "outputs": [],
   "source": [
    "# Features : [stock_industry, stock_market_cap, stock_risk_level]\n",
    "# Target: \"opinion\""
   ]
  },
  {
   "cell_type": "code",
   "execution_count": null,
   "metadata": {},
   "outputs": [],
   "source": [
    "# Total count of records\n",
    "n_total = len(data)\n",
    "\n",
    "# Count of records where opinion is bad\n",
    "n_bad = len(data[data['opinion'] == 'bad'])\n",
    "\n",
    "# Count of records where opinion is good\n",
    "n_good = len(data[data['opinion'] == 'good'])\n",
    "\n",
    "# Percentage of stocks with good opinion\n",
    "p_good = 100 * n_good / n_total\n",
    "\n",
    "# Print the results\n",
    "print(\"Total number of records                        = {}\".format(n_total))\n",
    "print(\"Stocks with bad opinion to buy                 = {}\".format(n_bad))\n",
    "print(\"Stocks with good opinion to buy                = {}\".format(n_good))\n",
    "print(\"Percentage of stocks with good opinion         = {:.2f}%\".format(p_good))"
   ]
  },
  {
   "cell_type": "code",
   "execution_count": null,
   "metadata": {},
   "outputs": [],
   "source": [
    "# Add inputs to the data\r\n",
    "inputs = pd.DataFrame({'stock_symbol':[\"testSymbol\"],\r\n",
    "                       'stock_name':[\"testName\"],\r\n",
    "                       'stock_industry':[\"Consumer Staples\"],\r\n",
    "                       'stock_market_cap':[\"Midcap\"],\r\n",
    "                       'stock_risk_level':[\"Low Risk\"]})\r\n",
    "\r\n",
    "frames = [data, inputs]\r\n",
    "data = pd.concat(frames)"
   ]
  },
  {
   "cell_type": "code",
   "execution_count": null,
   "metadata": {},
   "outputs": [],
   "source": [
    "# Reset index values\n",
    "data.reset_index(drop=True, inplace=True)"
   ]
  },
  {
   "cell_type": "code",
   "execution_count": null,
   "metadata": {},
   "outputs": [],
   "source": [
    "# Selecting target and feature variables\n",
    "opinion = data['opinion']\n",
    "feature = data.drop(['stock_symbol', 'stock_name', 'opinion'], axis=1)"
   ]
  },
  {
   "cell_type": "code",
   "execution_count": null,
   "metadata": {},
   "outputs": [],
   "source": [
    "# One-hot encoding\n",
    "feature = pd.get_dummies(feature)\n",
    "\n",
    "# Encode the 'raw_income' data to numerical values\n",
    "opinion = opinion.apply(lambda x: 1 if x == 'good' else 0)\n",
    "\n",
    "# Print the number of train features after one-hot encoding\n",
    "encoded_features = list(feature.columns)\n",
    "print(\"Total train features after one-hot encoding = {}\".format(len(encoded_features)))"
   ]
  },
  {
   "cell_type": "code",
   "execution_count": null,
   "metadata": {},
   "outputs": [],
   "source": [
    "# List of features encoded\n",
    "for e_feature in encoded_features:\n",
    "    print(e_feature)"
   ]
  },
  {
   "cell_type": "code",
   "execution_count": null,
   "metadata": {},
   "outputs": [],
   "source": [
    "# Display samples data after one hot encoding\n",
    "display(feature.tail(n=5))"
   ]
  },
  {
   "cell_type": "code",
   "execution_count": null,
   "metadata": {},
   "outputs": [],
   "source": [
    "# Data splitting: Train data and Test data\n",
    "from sklearn.model_selection import train_test_split\n",
    "\n",
    "# Splitting ratio = (train : test) = (80 : 20) [X - features; Y - target variable]\n",
    "X_train, X_test, Y_train, Y_test = train_test_split(feature, opinion, test_size = 0.000276319, shuffle=False)\n",
    "\n",
    "# Split details\n",
    "print(\"Training set has {} samples.\".format(X_train.shape[0]))\n",
    "print(\"Testing set has {} samples.\".format(X_test.shape[0]))"
   ]
  },
  {
   "cell_type": "code",
   "execution_count": null,
   "metadata": {},
   "outputs": [],
   "source": [
    "# Create model\n",
    "predSuggestion = KNeighborsClassifier(n_neighbors=3)"
   ]
  },
  {
   "cell_type": "code",
   "execution_count": null,
   "metadata": {},
   "outputs": [],
   "source": [
    "# Train model\n",
    "predSuggestion.fit(X_train, Y_train)"
   ]
  },
  {
   "cell_type": "code",
   "execution_count": null,
   "metadata": {},
   "outputs": [],
   "source": [
    "# Predictions for test data\n",
    "predicted= predSuggestion.predict(X_test) # 0:Overcast, 2:Mild\n",
    "print(predicted[0])"
   ]
  },
  {
   "cell_type": "code",
   "execution_count": null,
   "metadata": {},
   "outputs": [],
   "source": []
  }
 ]
}